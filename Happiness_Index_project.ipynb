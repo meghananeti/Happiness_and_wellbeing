{
 "cells": [
  {
   "cell_type": "markdown",
   "id": "a0af4600",
   "metadata": {},
   "source": [
    "Student ID: GX02138, AA23090"
   ]
  },
  {
   "cell_type": "code",
   "execution_count": 1,
   "id": "8f868978",
   "metadata": {},
   "outputs": [],
   "source": [
    "#Importing required libraries\n",
    "import pandas as pd\n",
    "import matplotlib.pyplot as plt\n",
    "import seaborn as sns\n",
    "from scipy.stats import ttest_ind, norm"
   ]
  },
  {
   "cell_type": "markdown",
   "id": "925ccef7",
   "metadata": {},
   "source": [
    "# Introduction\n",
    "- We have gathered different datasets of the year 2020 like World Happiness report, Health care, Crime, Cost of living and Quality of life from Kaggle and Numbeo:  \n",
    "\n",
    "- https://www.kaggle.com/datasets/londeen/world-happiness-report-2020\n",
    "- https://www.numbeo.com/health-care/rankings_by_country.jsp?title=2020-mid\n",
    "- https://www.numbeo.com/crime/rankings_by_country.jsp\n",
    "- https://www.numbeo.com/cost-of-living/rankings_by_country.jsp?title=2020-mid\n",
    "- https://www.kaggle.com/datasets/dumbgeek/countries-dataset-2020?select=Quality+of+life+index+by+countries+2020.csv\n",
    "\n",
    "\n",
    "- Our merged dataset contains all the factors that might affect a person's overall well-being and happiness.\n",
    "\n",
    "- The datasets are cleaned and analyzed programmatically to get some value from it.\n",
    "\n",
    "### Motive:\n",
    "-  Trying to find the relation between different factors that effect a countries' people's overall happiness and well-being."
   ]
  },
  {
   "cell_type": "markdown",
   "id": "5d95fa02",
   "metadata": {},
   "source": [
    "# Organizing the data: \n",
    "## Reading all the files:"
   ]
  },
  {
   "cell_type": "code",
   "execution_count": 2,
   "id": "4fe59de4",
   "metadata": {},
   "outputs": [],
   "source": [
    "whr = pd.read_csv(\"WHR20_DataForFigure2.1.csv\")\n",
    "\n",
    "hci = pd.read_csv(\"Health care index by countries 2020.csv\")\n",
    "\n",
    "crime_index = pd.read_csv(\"Crime index by countries 2020.csv\")\n",
    "\n",
    "col = pd.read_csv(\"Cost of living index by country 2020.csv\")\n",
    "\n",
    "qol = pd.read_csv(\"Quality of life index by countries 2020.csv\")\n"
   ]
  },
  {
   "cell_type": "code",
   "execution_count": 3,
   "id": "ba72503d",
   "metadata": {},
   "outputs": [
    {
     "data": {
      "text/html": [
       "<div>\n",
       "<style scoped>\n",
       "    .dataframe tbody tr th:only-of-type {\n",
       "        vertical-align: middle;\n",
       "    }\n",
       "\n",
       "    .dataframe tbody tr th {\n",
       "        vertical-align: top;\n",
       "    }\n",
       "\n",
       "    .dataframe thead th {\n",
       "        text-align: right;\n",
       "    }\n",
       "</style>\n",
       "<table border=\"1\" class=\"dataframe\">\n",
       "  <thead>\n",
       "    <tr style=\"text-align: right;\">\n",
       "      <th></th>\n",
       "      <th>Country name</th>\n",
       "      <th>Regional indicator</th>\n",
       "      <th>Ladder score</th>\n",
       "      <th>Standard error of ladder score</th>\n",
       "      <th>upperwhisker</th>\n",
       "      <th>lowerwhisker</th>\n",
       "      <th>Logged GDP per capita</th>\n",
       "      <th>Social support</th>\n",
       "      <th>Healthy life expectancy</th>\n",
       "      <th>Freedom to make life choices</th>\n",
       "      <th>Generosity</th>\n",
       "      <th>Perceptions of corruption</th>\n",
       "      <th>Ladder score in Dystopia</th>\n",
       "      <th>Explained by: Log GDP per capita</th>\n",
       "      <th>Explained by: Social support</th>\n",
       "      <th>Explained by: Healthy life expectancy</th>\n",
       "      <th>Explained by: Freedom to make life choices</th>\n",
       "      <th>Explained by: Generosity</th>\n",
       "      <th>Explained by: Perceptions of corruption</th>\n",
       "      <th>Dystopia + residual</th>\n",
       "    </tr>\n",
       "  </thead>\n",
       "  <tbody>\n",
       "    <tr>\n",
       "      <th>0</th>\n",
       "      <td>Finland</td>\n",
       "      <td>Western Europe</td>\n",
       "      <td>7.8087</td>\n",
       "      <td>0.031156</td>\n",
       "      <td>7.869766</td>\n",
       "      <td>7.747634</td>\n",
       "      <td>10.639267</td>\n",
       "      <td>0.95433</td>\n",
       "      <td>71.900825</td>\n",
       "      <td>0.949172</td>\n",
       "      <td>-0.059482</td>\n",
       "      <td>0.195445</td>\n",
       "      <td>1.972317</td>\n",
       "      <td>1.28519</td>\n",
       "      <td>1.499526</td>\n",
       "      <td>0.961271</td>\n",
       "      <td>0.662317</td>\n",
       "      <td>0.15967</td>\n",
       "      <td>0.477857</td>\n",
       "      <td>2.762835</td>\n",
       "    </tr>\n",
       "  </tbody>\n",
       "</table>\n",
       "</div>"
      ],
      "text/plain": [
       "  Country name Regional indicator  Ladder score  \\\n",
       "0      Finland     Western Europe        7.8087   \n",
       "\n",
       "   Standard error of ladder score  upperwhisker  lowerwhisker  \\\n",
       "0                        0.031156      7.869766      7.747634   \n",
       "\n",
       "   Logged GDP per capita  Social support  Healthy life expectancy  \\\n",
       "0              10.639267         0.95433                71.900825   \n",
       "\n",
       "   Freedom to make life choices  Generosity  Perceptions of corruption  \\\n",
       "0                      0.949172   -0.059482                   0.195445   \n",
       "\n",
       "   Ladder score in Dystopia  Explained by: Log GDP per capita  \\\n",
       "0                  1.972317                           1.28519   \n",
       "\n",
       "   Explained by: Social support  Explained by: Healthy life expectancy  \\\n",
       "0                      1.499526                               0.961271   \n",
       "\n",
       "   Explained by: Freedom to make life choices  Explained by: Generosity  \\\n",
       "0                                    0.662317                   0.15967   \n",
       "\n",
       "   Explained by: Perceptions of corruption  Dystopia + residual  \n",
       "0                                 0.477857             2.762835  "
      ]
     },
     "execution_count": 3,
     "metadata": {},
     "output_type": "execute_result"
    }
   ],
   "source": [
    "whr.head(1)"
   ]
  },
  {
   "cell_type": "code",
   "execution_count": 4,
   "id": "c9c2c782",
   "metadata": {},
   "outputs": [
    {
     "data": {
      "text/html": [
       "<div>\n",
       "<style scoped>\n",
       "    .dataframe tbody tr th:only-of-type {\n",
       "        vertical-align: middle;\n",
       "    }\n",
       "\n",
       "    .dataframe tbody tr th {\n",
       "        vertical-align: top;\n",
       "    }\n",
       "\n",
       "    .dataframe thead th {\n",
       "        text-align: right;\n",
       "    }\n",
       "</style>\n",
       "<table border=\"1\" class=\"dataframe\">\n",
       "  <thead>\n",
       "    <tr style=\"text-align: right;\">\n",
       "      <th></th>\n",
       "      <th>Country</th>\n",
       "      <th>Regional indicator</th>\n",
       "      <th>Ladder score</th>\n",
       "      <th>Standard error of ladder score</th>\n",
       "      <th>upperwhisker</th>\n",
       "      <th>lowerwhisker</th>\n",
       "      <th>Logged GDP per capita</th>\n",
       "      <th>Social support</th>\n",
       "      <th>Healthy life expectancy</th>\n",
       "      <th>Freedom to make life choices</th>\n",
       "      <th>Generosity</th>\n",
       "      <th>Perceptions of corruption</th>\n",
       "      <th>Ladder score in Dystopia</th>\n",
       "      <th>Explained by: Log GDP per capita</th>\n",
       "      <th>Explained by: Social support</th>\n",
       "      <th>Explained by: Healthy life expectancy</th>\n",
       "      <th>Explained by: Freedom to make life choices</th>\n",
       "      <th>Explained by: Generosity</th>\n",
       "      <th>Explained by: Perceptions of corruption</th>\n",
       "      <th>Dystopia + residual</th>\n",
       "    </tr>\n",
       "  </thead>\n",
       "  <tbody>\n",
       "    <tr>\n",
       "      <th>0</th>\n",
       "      <td>Finland</td>\n",
       "      <td>Western Europe</td>\n",
       "      <td>7.8087</td>\n",
       "      <td>0.031156</td>\n",
       "      <td>7.869766</td>\n",
       "      <td>7.747634</td>\n",
       "      <td>10.639267</td>\n",
       "      <td>0.954330</td>\n",
       "      <td>71.900825</td>\n",
       "      <td>0.949172</td>\n",
       "      <td>-0.059482</td>\n",
       "      <td>0.195445</td>\n",
       "      <td>1.972317</td>\n",
       "      <td>1.285190</td>\n",
       "      <td>1.499526</td>\n",
       "      <td>0.961271</td>\n",
       "      <td>0.662317</td>\n",
       "      <td>0.159670</td>\n",
       "      <td>0.477857</td>\n",
       "      <td>2.762835</td>\n",
       "    </tr>\n",
       "    <tr>\n",
       "      <th>1</th>\n",
       "      <td>Denmark</td>\n",
       "      <td>Western Europe</td>\n",
       "      <td>7.6456</td>\n",
       "      <td>0.033492</td>\n",
       "      <td>7.711245</td>\n",
       "      <td>7.579955</td>\n",
       "      <td>10.774001</td>\n",
       "      <td>0.955991</td>\n",
       "      <td>72.402504</td>\n",
       "      <td>0.951444</td>\n",
       "      <td>0.066202</td>\n",
       "      <td>0.168489</td>\n",
       "      <td>1.972317</td>\n",
       "      <td>1.326949</td>\n",
       "      <td>1.503449</td>\n",
       "      <td>0.979333</td>\n",
       "      <td>0.665040</td>\n",
       "      <td>0.242793</td>\n",
       "      <td>0.495260</td>\n",
       "      <td>2.432741</td>\n",
       "    </tr>\n",
       "  </tbody>\n",
       "</table>\n",
       "</div>"
      ],
      "text/plain": [
       "   Country Regional indicator  Ladder score  Standard error of ladder score  \\\n",
       "0  Finland     Western Europe        7.8087                        0.031156   \n",
       "1  Denmark     Western Europe        7.6456                        0.033492   \n",
       "\n",
       "   upperwhisker  lowerwhisker  Logged GDP per capita  Social support  \\\n",
       "0      7.869766      7.747634              10.639267        0.954330   \n",
       "1      7.711245      7.579955              10.774001        0.955991   \n",
       "\n",
       "   Healthy life expectancy  Freedom to make life choices  Generosity  \\\n",
       "0                71.900825                      0.949172   -0.059482   \n",
       "1                72.402504                      0.951444    0.066202   \n",
       "\n",
       "   Perceptions of corruption  Ladder score in Dystopia  \\\n",
       "0                   0.195445                  1.972317   \n",
       "1                   0.168489                  1.972317   \n",
       "\n",
       "   Explained by: Log GDP per capita  Explained by: Social support  \\\n",
       "0                          1.285190                      1.499526   \n",
       "1                          1.326949                      1.503449   \n",
       "\n",
       "   Explained by: Healthy life expectancy  \\\n",
       "0                               0.961271   \n",
       "1                               0.979333   \n",
       "\n",
       "   Explained by: Freedom to make life choices  Explained by: Generosity  \\\n",
       "0                                    0.662317                  0.159670   \n",
       "1                                    0.665040                  0.242793   \n",
       "\n",
       "   Explained by: Perceptions of corruption  Dystopia + residual  \n",
       "0                                 0.477857             2.762835  \n",
       "1                                 0.495260             2.432741  "
      ]
     },
     "execution_count": 4,
     "metadata": {},
     "output_type": "execute_result"
    }
   ],
   "source": [
    "#Renaming the 'Country name' column, if needed, to make sure every dataset has the same column name, \n",
    "#so that merge can be performed later.\n",
    "\n",
    "whr.rename({'Country name': 'Country'}, axis = 1, inplace = True)\n",
    "whr.head(2)"
   ]
  },
  {
   "cell_type": "markdown",
   "id": "7a563182",
   "metadata": {},
   "source": [
    "- This 'World Happiness report' dataset has multiple columns describing \"how much\" of the score is \"explained by what factor\".\n",
    "- We just want the different factors' data for our analysis and not the explanation of the score, so we get rid of them.\n",
    "- We also get rid of the Standard error, upper and lower whisker columns for exactly the same reason."
   ]
  },
  {
   "cell_type": "code",
   "execution_count": 5,
   "id": "138e44ed",
   "metadata": {},
   "outputs": [
    {
     "data": {
      "text/html": [
       "<div>\n",
       "<style scoped>\n",
       "    .dataframe tbody tr th:only-of-type {\n",
       "        vertical-align: middle;\n",
       "    }\n",
       "\n",
       "    .dataframe tbody tr th {\n",
       "        vertical-align: top;\n",
       "    }\n",
       "\n",
       "    .dataframe thead th {\n",
       "        text-align: right;\n",
       "    }\n",
       "</style>\n",
       "<table border=\"1\" class=\"dataframe\">\n",
       "  <thead>\n",
       "    <tr style=\"text-align: right;\">\n",
       "      <th></th>\n",
       "      <th>Country</th>\n",
       "      <th>Regional indicator</th>\n",
       "      <th>Ladder score</th>\n",
       "      <th>Logged GDP per capita</th>\n",
       "      <th>Social support</th>\n",
       "      <th>Healthy life expectancy</th>\n",
       "      <th>Freedom to make life choices</th>\n",
       "      <th>Generosity</th>\n",
       "      <th>Perceptions of corruption</th>\n",
       "    </tr>\n",
       "  </thead>\n",
       "  <tbody>\n",
       "    <tr>\n",
       "      <th>0</th>\n",
       "      <td>Finland</td>\n",
       "      <td>Western Europe</td>\n",
       "      <td>7.8087</td>\n",
       "      <td>10.639267</td>\n",
       "      <td>0.954330</td>\n",
       "      <td>71.900825</td>\n",
       "      <td>0.949172</td>\n",
       "      <td>-0.059482</td>\n",
       "      <td>0.195445</td>\n",
       "    </tr>\n",
       "    <tr>\n",
       "      <th>1</th>\n",
       "      <td>Denmark</td>\n",
       "      <td>Western Europe</td>\n",
       "      <td>7.6456</td>\n",
       "      <td>10.774001</td>\n",
       "      <td>0.955991</td>\n",
       "      <td>72.402504</td>\n",
       "      <td>0.951444</td>\n",
       "      <td>0.066202</td>\n",
       "      <td>0.168489</td>\n",
       "    </tr>\n",
       "    <tr>\n",
       "      <th>2</th>\n",
       "      <td>Switzerland</td>\n",
       "      <td>Western Europe</td>\n",
       "      <td>7.5599</td>\n",
       "      <td>10.979933</td>\n",
       "      <td>0.942847</td>\n",
       "      <td>74.102448</td>\n",
       "      <td>0.921337</td>\n",
       "      <td>0.105911</td>\n",
       "      <td>0.303728</td>\n",
       "    </tr>\n",
       "    <tr>\n",
       "      <th>3</th>\n",
       "      <td>Iceland</td>\n",
       "      <td>Western Europe</td>\n",
       "      <td>7.5045</td>\n",
       "      <td>10.772559</td>\n",
       "      <td>0.974670</td>\n",
       "      <td>73.000000</td>\n",
       "      <td>0.948892</td>\n",
       "      <td>0.246944</td>\n",
       "      <td>0.711710</td>\n",
       "    </tr>\n",
       "    <tr>\n",
       "      <th>4</th>\n",
       "      <td>Norway</td>\n",
       "      <td>Western Europe</td>\n",
       "      <td>7.4880</td>\n",
       "      <td>11.087804</td>\n",
       "      <td>0.952487</td>\n",
       "      <td>73.200783</td>\n",
       "      <td>0.955750</td>\n",
       "      <td>0.134533</td>\n",
       "      <td>0.263218</td>\n",
       "    </tr>\n",
       "  </tbody>\n",
       "</table>\n",
       "</div>"
      ],
      "text/plain": [
       "       Country Regional indicator  Ladder score  Logged GDP per capita  \\\n",
       "0      Finland     Western Europe        7.8087              10.639267   \n",
       "1      Denmark     Western Europe        7.6456              10.774001   \n",
       "2  Switzerland     Western Europe        7.5599              10.979933   \n",
       "3      Iceland     Western Europe        7.5045              10.772559   \n",
       "4       Norway     Western Europe        7.4880              11.087804   \n",
       "\n",
       "   Social support  Healthy life expectancy  Freedom to make life choices  \\\n",
       "0        0.954330                71.900825                      0.949172   \n",
       "1        0.955991                72.402504                      0.951444   \n",
       "2        0.942847                74.102448                      0.921337   \n",
       "3        0.974670                73.000000                      0.948892   \n",
       "4        0.952487                73.200783                      0.955750   \n",
       "\n",
       "   Generosity  Perceptions of corruption  \n",
       "0   -0.059482                   0.195445  \n",
       "1    0.066202                   0.168489  \n",
       "2    0.105911                   0.303728  \n",
       "3    0.246944                   0.711710  \n",
       "4    0.134533                   0.263218  "
      ]
     },
     "execution_count": 5,
     "metadata": {},
     "output_type": "execute_result"
    }
   ],
   "source": [
    "cont_ds = whr[['Country', 'Regional indicator', 'Ladder score', 'Logged GDP per capita', 'Social support', \n",
    "               'Healthy life expectancy', 'Freedom to make life choices','Generosity', 'Perceptions of corruption']]\n",
    "\n",
    "cont_ds.head()"
   ]
  },
  {
   "cell_type": "markdown",
   "id": "277122cc",
   "metadata": {},
   "source": [
    "- There are also many columns in some other datasets which we don't require for our analysis. So, we get rid of them."
   ]
  },
  {
   "cell_type": "code",
   "execution_count": 6,
   "id": "a101bf9d",
   "metadata": {},
   "outputs": [
    {
     "data": {
      "text/html": [
       "<div>\n",
       "<style scoped>\n",
       "    .dataframe tbody tr th:only-of-type {\n",
       "        vertical-align: middle;\n",
       "    }\n",
       "\n",
       "    .dataframe tbody tr th {\n",
       "        vertical-align: top;\n",
       "    }\n",
       "\n",
       "    .dataframe thead th {\n",
       "        text-align: right;\n",
       "    }\n",
       "</style>\n",
       "<table border=\"1\" class=\"dataframe\">\n",
       "  <thead>\n",
       "    <tr style=\"text-align: right;\">\n",
       "      <th></th>\n",
       "      <th>Country</th>\n",
       "      <th>Health Care Index</th>\n",
       "      <th>Health Care Exp. Index</th>\n",
       "    </tr>\n",
       "  </thead>\n",
       "  <tbody>\n",
       "    <tr>\n",
       "      <th>0</th>\n",
       "      <td>Denmark</td>\n",
       "      <td>80.00</td>\n",
       "      <td>147.47</td>\n",
       "    </tr>\n",
       "    <tr>\n",
       "      <th>1</th>\n",
       "      <td>Norway</td>\n",
       "      <td>74.36</td>\n",
       "      <td>135.67</td>\n",
       "    </tr>\n",
       "  </tbody>\n",
       "</table>\n",
       "</div>"
      ],
      "text/plain": [
       "   Country  Health Care Index  Health Care Exp. Index\n",
       "0  Denmark              80.00                  147.47\n",
       "1   Norway              74.36                  135.67"
      ]
     },
     "execution_count": 6,
     "metadata": {},
     "output_type": "execute_result"
    }
   ],
   "source": [
    "hci.head(2)"
   ]
  },
  {
   "cell_type": "code",
   "execution_count": 7,
   "id": "3144ecd3",
   "metadata": {},
   "outputs": [
    {
     "data": {
      "text/html": [
       "<div>\n",
       "<style scoped>\n",
       "    .dataframe tbody tr th:only-of-type {\n",
       "        vertical-align: middle;\n",
       "    }\n",
       "\n",
       "    .dataframe tbody tr th {\n",
       "        vertical-align: top;\n",
       "    }\n",
       "\n",
       "    .dataframe thead th {\n",
       "        text-align: right;\n",
       "    }\n",
       "</style>\n",
       "<table border=\"1\" class=\"dataframe\">\n",
       "  <thead>\n",
       "    <tr style=\"text-align: right;\">\n",
       "      <th></th>\n",
       "      <th>Country</th>\n",
       "      <th>Health Care Index</th>\n",
       "    </tr>\n",
       "  </thead>\n",
       "  <tbody>\n",
       "    <tr>\n",
       "      <th>0</th>\n",
       "      <td>Denmark</td>\n",
       "      <td>80.00</td>\n",
       "    </tr>\n",
       "    <tr>\n",
       "      <th>1</th>\n",
       "      <td>Norway</td>\n",
       "      <td>74.36</td>\n",
       "    </tr>\n",
       "    <tr>\n",
       "      <th>2</th>\n",
       "      <td>Switzerland</td>\n",
       "      <td>72.44</td>\n",
       "    </tr>\n",
       "    <tr>\n",
       "      <th>3</th>\n",
       "      <td>Sweden</td>\n",
       "      <td>69.23</td>\n",
       "    </tr>\n",
       "    <tr>\n",
       "      <th>4</th>\n",
       "      <td>Finland</td>\n",
       "      <td>75.79</td>\n",
       "    </tr>\n",
       "  </tbody>\n",
       "</table>\n",
       "</div>"
      ],
      "text/plain": [
       "       Country  Health Care Index\n",
       "0      Denmark              80.00\n",
       "1       Norway              74.36\n",
       "2  Switzerland              72.44\n",
       "3       Sweden              69.23\n",
       "4      Finland              75.79"
      ]
     },
     "execution_count": 7,
     "metadata": {},
     "output_type": "execute_result"
    }
   ],
   "source": [
    "health_care_index = hci[['Country', 'Health Care Index']]\n",
    "health_care_index.head(5)"
   ]
  },
  {
   "cell_type": "code",
   "execution_count": 8,
   "id": "4ddde20b",
   "metadata": {},
   "outputs": [
    {
     "data": {
      "text/html": [
       "<div>\n",
       "<style scoped>\n",
       "    .dataframe tbody tr th:only-of-type {\n",
       "        vertical-align: middle;\n",
       "    }\n",
       "\n",
       "    .dataframe tbody tr th {\n",
       "        vertical-align: top;\n",
       "    }\n",
       "\n",
       "    .dataframe thead th {\n",
       "        text-align: right;\n",
       "    }\n",
       "</style>\n",
       "<table border=\"1\" class=\"dataframe\">\n",
       "  <thead>\n",
       "    <tr style=\"text-align: right;\">\n",
       "      <th></th>\n",
       "      <th>Country</th>\n",
       "      <th>Cost of Living Index</th>\n",
       "      <th>Rent Index</th>\n",
       "      <th>Cost of Living Plus Rent Index</th>\n",
       "      <th>Groceries Index</th>\n",
       "      <th>Restaurant Price Index</th>\n",
       "      <th>Local Purchasing Power Index</th>\n",
       "    </tr>\n",
       "  </thead>\n",
       "  <tbody>\n",
       "    <tr>\n",
       "      <th>0</th>\n",
       "      <td>Switzerland</td>\n",
       "      <td>122.40</td>\n",
       "      <td>50.25</td>\n",
       "      <td>87.89</td>\n",
       "      <td>120.27</td>\n",
       "      <td>123.01</td>\n",
       "      <td>119.53</td>\n",
       "    </tr>\n",
       "    <tr>\n",
       "      <th>1</th>\n",
       "      <td>Norway</td>\n",
       "      <td>101.43</td>\n",
       "      <td>36.15</td>\n",
       "      <td>70.21</td>\n",
       "      <td>91.14</td>\n",
       "      <td>109.28</td>\n",
       "      <td>88.38</td>\n",
       "    </tr>\n",
       "  </tbody>\n",
       "</table>\n",
       "</div>"
      ],
      "text/plain": [
       "       Country  Cost of Living Index  Rent Index  \\\n",
       "0  Switzerland                122.40       50.25   \n",
       "1       Norway                101.43       36.15   \n",
       "\n",
       "   Cost of Living Plus Rent Index  Groceries Index  Restaurant Price Index  \\\n",
       "0                           87.89           120.27                  123.01   \n",
       "1                           70.21            91.14                  109.28   \n",
       "\n",
       "   Local Purchasing Power Index  \n",
       "0                        119.53  \n",
       "1                         88.38  "
      ]
     },
     "execution_count": 8,
     "metadata": {},
     "output_type": "execute_result"
    }
   ],
   "source": [
    "#Before\n",
    "col.head(2)"
   ]
  },
  {
   "cell_type": "code",
   "execution_count": 9,
   "id": "3e2fe019",
   "metadata": {},
   "outputs": [
    {
     "data": {
      "text/html": [
       "<div>\n",
       "<style scoped>\n",
       "    .dataframe tbody tr th:only-of-type {\n",
       "        vertical-align: middle;\n",
       "    }\n",
       "\n",
       "    .dataframe tbody tr th {\n",
       "        vertical-align: top;\n",
       "    }\n",
       "\n",
       "    .dataframe thead th {\n",
       "        text-align: right;\n",
       "    }\n",
       "</style>\n",
       "<table border=\"1\" class=\"dataframe\">\n",
       "  <thead>\n",
       "    <tr style=\"text-align: right;\">\n",
       "      <th></th>\n",
       "      <th>Country</th>\n",
       "      <th>Cost of Living Index</th>\n",
       "    </tr>\n",
       "  </thead>\n",
       "  <tbody>\n",
       "    <tr>\n",
       "      <th>0</th>\n",
       "      <td>Switzerland</td>\n",
       "      <td>122.40</td>\n",
       "    </tr>\n",
       "    <tr>\n",
       "      <th>1</th>\n",
       "      <td>Norway</td>\n",
       "      <td>101.43</td>\n",
       "    </tr>\n",
       "    <tr>\n",
       "      <th>2</th>\n",
       "      <td>Iceland</td>\n",
       "      <td>100.48</td>\n",
       "    </tr>\n",
       "    <tr>\n",
       "      <th>3</th>\n",
       "      <td>Japan</td>\n",
       "      <td>83.35</td>\n",
       "    </tr>\n",
       "    <tr>\n",
       "      <th>4</th>\n",
       "      <td>Denmark</td>\n",
       "      <td>83.00</td>\n",
       "    </tr>\n",
       "  </tbody>\n",
       "</table>\n",
       "</div>"
      ],
      "text/plain": [
       "       Country  Cost of Living Index\n",
       "0  Switzerland                122.40\n",
       "1       Norway                101.43\n",
       "2      Iceland                100.48\n",
       "3        Japan                 83.35\n",
       "4      Denmark                 83.00"
      ]
     },
     "execution_count": 9,
     "metadata": {},
     "output_type": "execute_result"
    }
   ],
   "source": [
    "#After\n",
    "cost_of_living = col[['Country', 'Cost of Living Index']]\n",
    "cost_of_living.head()"
   ]
  },
  {
   "cell_type": "code",
   "execution_count": 10,
   "id": "e003e253",
   "metadata": {},
   "outputs": [
    {
     "data": {
      "text/html": [
       "<div>\n",
       "<style scoped>\n",
       "    .dataframe tbody tr th:only-of-type {\n",
       "        vertical-align: middle;\n",
       "    }\n",
       "\n",
       "    .dataframe tbody tr th {\n",
       "        vertical-align: top;\n",
       "    }\n",
       "\n",
       "    .dataframe thead th {\n",
       "        text-align: right;\n",
       "    }\n",
       "</style>\n",
       "<table border=\"1\" class=\"dataframe\">\n",
       "  <thead>\n",
       "    <tr style=\"text-align: right;\">\n",
       "      <th></th>\n",
       "      <th>Country</th>\n",
       "      <th>Quality of Life Index</th>\n",
       "      <th>Purchasing Power Index</th>\n",
       "      <th>Safety Index</th>\n",
       "      <th>Health Care Index</th>\n",
       "      <th>Cost of Living Index</th>\n",
       "      <th>Property Price to Income Ratio</th>\n",
       "      <th>Traffic Commute Time Index</th>\n",
       "      <th>Pollution Index</th>\n",
       "      <th>Climate Index</th>\n",
       "    </tr>\n",
       "  </thead>\n",
       "  <tbody>\n",
       "    <tr>\n",
       "      <th>0</th>\n",
       "      <td>Australia</td>\n",
       "      <td>186.21</td>\n",
       "      <td>107.31</td>\n",
       "      <td>58.64</td>\n",
       "      <td>77.38</td>\n",
       "      <td>73.54</td>\n",
       "      <td>7.52</td>\n",
       "      <td>34.73</td>\n",
       "      <td>23.46</td>\n",
       "      <td>92.70</td>\n",
       "    </tr>\n",
       "    <tr>\n",
       "      <th>1</th>\n",
       "      <td>Hong Kong</td>\n",
       "      <td>99.05</td>\n",
       "      <td>65.32</td>\n",
       "      <td>79.30</td>\n",
       "      <td>66.08</td>\n",
       "      <td>77.22</td>\n",
       "      <td>47.46</td>\n",
       "      <td>41.46</td>\n",
       "      <td>67.69</td>\n",
       "      <td>83.64</td>\n",
       "    </tr>\n",
       "  </tbody>\n",
       "</table>\n",
       "</div>"
      ],
      "text/plain": [
       "     Country  Quality of Life Index  Purchasing Power Index  Safety Index  \\\n",
       "0  Australia                 186.21                  107.31         58.64   \n",
       "1  Hong Kong                  99.05                   65.32         79.30   \n",
       "\n",
       "   Health Care Index  Cost of Living Index  Property Price to Income Ratio  \\\n",
       "0              77.38                 73.54                            7.52   \n",
       "1              66.08                 77.22                           47.46   \n",
       "\n",
       "   Traffic Commute Time Index  Pollution Index  Climate Index  \n",
       "0                       34.73            23.46          92.70  \n",
       "1                       41.46            67.69          83.64  "
      ]
     },
     "execution_count": 10,
     "metadata": {},
     "output_type": "execute_result"
    }
   ],
   "source": [
    "#Before\n",
    "qol.head(2)"
   ]
  },
  {
   "cell_type": "markdown",
   "id": "77ddffdb",
   "metadata": {},
   "source": [
    "- We can observe here that Quality of Life dataset already has all the factors we need for our analysis, but the reason we're using all the other datasets is because the QOL dataset has limited data and individually, each dataset has more data regarding their respective factors. This way we can eliminate as many Null values as possible.  "
   ]
  },
  {
   "cell_type": "code",
   "execution_count": 11,
   "id": "d4833018",
   "metadata": {},
   "outputs": [
    {
     "name": "stdout",
     "output_type": "stream",
     "text": [
      "If required columns are used from QOL dataset:\n",
      "No.of Null values in Healthcare index column:  61\n",
      "No.of Null values in Cost of Living Index column:  61\n",
      "No.of Null values in Safety Index column:  61\n"
     ]
    }
   ],
   "source": [
    "print(\"If required columns are used from QOL dataset:\")\n",
    "print(\"No.of Null values in Healthcare index column: \", qol['Health Care Index'].isna().sum())\n",
    "print(\"No.of Null values in Cost of Living Index column: \", qol['Cost of Living Index'].isna().sum())\n",
    "print(\"No.of Null values in Safety Index column: \", qol['Safety Index'].isna().sum())"
   ]
  },
  {
   "cell_type": "code",
   "execution_count": 12,
   "id": "d3cd3b5c",
   "metadata": {},
   "outputs": [
    {
     "name": "stdout",
     "output_type": "stream",
     "text": [
      "After using respective individual datasets: \n",
      "No.of Null values in Healthcare index column:  10\n",
      "No.of Null values in Cost of Living Index column:  0\n",
      "No.of Null values in Safety Index column:  0\n"
     ]
    }
   ],
   "source": [
    "print(\"After using respective individual datasets: \")\n",
    "print(\"No.of Null values in Healthcare index column: \", health_care_index['Health Care Index'].isna().sum())\n",
    "print(\"No.of Null values in Cost of Living Index column: \", cost_of_living['Cost of Living Index'].isna().sum())\n",
    "print(\"No.of Null values in Safety Index column: \", crime_index['Safety Index'].isna().sum())\n"
   ]
  },
  {
   "cell_type": "code",
   "execution_count": 13,
   "id": "79937133",
   "metadata": {},
   "outputs": [
    {
     "data": {
      "text/html": [
       "<div>\n",
       "<style scoped>\n",
       "    .dataframe tbody tr th:only-of-type {\n",
       "        vertical-align: middle;\n",
       "    }\n",
       "\n",
       "    .dataframe tbody tr th {\n",
       "        vertical-align: top;\n",
       "    }\n",
       "\n",
       "    .dataframe thead th {\n",
       "        text-align: right;\n",
       "    }\n",
       "</style>\n",
       "<table border=\"1\" class=\"dataframe\">\n",
       "  <thead>\n",
       "    <tr style=\"text-align: right;\">\n",
       "      <th></th>\n",
       "      <th>Country</th>\n",
       "      <th>Quality of Life Index</th>\n",
       "      <th>Pollution Index</th>\n",
       "    </tr>\n",
       "  </thead>\n",
       "  <tbody>\n",
       "    <tr>\n",
       "      <th>0</th>\n",
       "      <td>Australia</td>\n",
       "      <td>186.21</td>\n",
       "      <td>23.46</td>\n",
       "    </tr>\n",
       "    <tr>\n",
       "      <th>1</th>\n",
       "      <td>Hong Kong</td>\n",
       "      <td>99.05</td>\n",
       "      <td>67.69</td>\n",
       "    </tr>\n",
       "    <tr>\n",
       "      <th>2</th>\n",
       "      <td>Czech Republic</td>\n",
       "      <td>156.24</td>\n",
       "      <td>40.23</td>\n",
       "    </tr>\n",
       "    <tr>\n",
       "      <th>3</th>\n",
       "      <td>Switzerland</td>\n",
       "      <td>192.01</td>\n",
       "      <td>22.39</td>\n",
       "    </tr>\n",
       "    <tr>\n",
       "      <th>4</th>\n",
       "      <td>Macao</td>\n",
       "      <td>180.91</td>\n",
       "      <td>28.46</td>\n",
       "    </tr>\n",
       "  </tbody>\n",
       "</table>\n",
       "</div>"
      ],
      "text/plain": [
       "          Country  Quality of Life Index  Pollution Index\n",
       "0       Australia                 186.21            23.46\n",
       "1       Hong Kong                  99.05            67.69\n",
       "2  Czech Republic                 156.24            40.23\n",
       "3     Switzerland                 192.01            22.39\n",
       "4           Macao                 180.91            28.46"
      ]
     },
     "execution_count": 13,
     "metadata": {},
     "output_type": "execute_result"
    }
   ],
   "source": [
    "#After\n",
    "quality_of_life = qol[['Country', 'Quality of Life Index', 'Pollution Index']]\n",
    "quality_of_life.head()"
   ]
  },
  {
   "cell_type": "markdown",
   "id": "07877b4b",
   "metadata": {},
   "source": [
    "## Merging all the datasets:"
   ]
  },
  {
   "cell_type": "code",
   "execution_count": 14,
   "id": "215b59a1",
   "metadata": {},
   "outputs": [
    {
     "data": {
      "text/html": [
       "<div>\n",
       "<style scoped>\n",
       "    .dataframe tbody tr th:only-of-type {\n",
       "        vertical-align: middle;\n",
       "    }\n",
       "\n",
       "    .dataframe tbody tr th {\n",
       "        vertical-align: top;\n",
       "    }\n",
       "\n",
       "    .dataframe thead th {\n",
       "        text-align: right;\n",
       "    }\n",
       "</style>\n",
       "<table border=\"1\" class=\"dataframe\">\n",
       "  <thead>\n",
       "    <tr style=\"text-align: right;\">\n",
       "      <th></th>\n",
       "      <th>Country</th>\n",
       "      <th>Regional indicator</th>\n",
       "      <th>Ladder score</th>\n",
       "      <th>Logged GDP per capita</th>\n",
       "      <th>Social support</th>\n",
       "      <th>Healthy life expectancy</th>\n",
       "      <th>Freedom to make life choices</th>\n",
       "      <th>Generosity</th>\n",
       "      <th>Perceptions of corruption</th>\n",
       "      <th>Health Care Index</th>\n",
       "      <th>Crime Index</th>\n",
       "      <th>Safety Index</th>\n",
       "      <th>Cost of Living Index</th>\n",
       "      <th>Quality of Life Index</th>\n",
       "      <th>Pollution Index</th>\n",
       "    </tr>\n",
       "  </thead>\n",
       "  <tbody>\n",
       "    <tr>\n",
       "      <th>0</th>\n",
       "      <td>Finland</td>\n",
       "      <td>Western Europe</td>\n",
       "      <td>7.8087</td>\n",
       "      <td>10.639267</td>\n",
       "      <td>0.954330</td>\n",
       "      <td>71.900825</td>\n",
       "      <td>0.949172</td>\n",
       "      <td>-0.059482</td>\n",
       "      <td>0.195445</td>\n",
       "      <td>75.79</td>\n",
       "      <td>23.32</td>\n",
       "      <td>76.68</td>\n",
       "      <td>70.29</td>\n",
       "      <td>190.22</td>\n",
       "      <td>11.55</td>\n",
       "    </tr>\n",
       "    <tr>\n",
       "      <th>1</th>\n",
       "      <td>Denmark</td>\n",
       "      <td>Western Europe</td>\n",
       "      <td>7.6456</td>\n",
       "      <td>10.774001</td>\n",
       "      <td>0.955991</td>\n",
       "      <td>72.402504</td>\n",
       "      <td>0.951444</td>\n",
       "      <td>0.066202</td>\n",
       "      <td>0.168489</td>\n",
       "      <td>80.00</td>\n",
       "      <td>25.10</td>\n",
       "      <td>74.90</td>\n",
       "      <td>83.00</td>\n",
       "      <td>192.67</td>\n",
       "      <td>21.33</td>\n",
       "    </tr>\n",
       "    <tr>\n",
       "      <th>2</th>\n",
       "      <td>Switzerland</td>\n",
       "      <td>Western Europe</td>\n",
       "      <td>7.5599</td>\n",
       "      <td>10.979933</td>\n",
       "      <td>0.942847</td>\n",
       "      <td>74.102448</td>\n",
       "      <td>0.921337</td>\n",
       "      <td>0.105911</td>\n",
       "      <td>0.303728</td>\n",
       "      <td>72.44</td>\n",
       "      <td>21.60</td>\n",
       "      <td>78.40</td>\n",
       "      <td>122.40</td>\n",
       "      <td>192.01</td>\n",
       "      <td>22.39</td>\n",
       "    </tr>\n",
       "    <tr>\n",
       "      <th>3</th>\n",
       "      <td>Iceland</td>\n",
       "      <td>Western Europe</td>\n",
       "      <td>7.5045</td>\n",
       "      <td>10.772559</td>\n",
       "      <td>0.974670</td>\n",
       "      <td>73.000000</td>\n",
       "      <td>0.948892</td>\n",
       "      <td>0.246944</td>\n",
       "      <td>0.711710</td>\n",
       "      <td>65.92</td>\n",
       "      <td>23.36</td>\n",
       "      <td>76.64</td>\n",
       "      <td>100.48</td>\n",
       "      <td>181.75</td>\n",
       "      <td>16.21</td>\n",
       "    </tr>\n",
       "    <tr>\n",
       "      <th>4</th>\n",
       "      <td>Norway</td>\n",
       "      <td>Western Europe</td>\n",
       "      <td>7.4880</td>\n",
       "      <td>11.087804</td>\n",
       "      <td>0.952487</td>\n",
       "      <td>73.200783</td>\n",
       "      <td>0.955750</td>\n",
       "      <td>0.134533</td>\n",
       "      <td>0.263218</td>\n",
       "      <td>74.36</td>\n",
       "      <td>35.43</td>\n",
       "      <td>64.57</td>\n",
       "      <td>101.43</td>\n",
       "      <td>175.19</td>\n",
       "      <td>20.35</td>\n",
       "    </tr>\n",
       "  </tbody>\n",
       "</table>\n",
       "</div>"
      ],
      "text/plain": [
       "       Country Regional indicator  Ladder score  Logged GDP per capita  \\\n",
       "0      Finland     Western Europe        7.8087              10.639267   \n",
       "1      Denmark     Western Europe        7.6456              10.774001   \n",
       "2  Switzerland     Western Europe        7.5599              10.979933   \n",
       "3      Iceland     Western Europe        7.5045              10.772559   \n",
       "4       Norway     Western Europe        7.4880              11.087804   \n",
       "\n",
       "   Social support  Healthy life expectancy  Freedom to make life choices  \\\n",
       "0        0.954330                71.900825                      0.949172   \n",
       "1        0.955991                72.402504                      0.951444   \n",
       "2        0.942847                74.102448                      0.921337   \n",
       "3        0.974670                73.000000                      0.948892   \n",
       "4        0.952487                73.200783                      0.955750   \n",
       "\n",
       "   Generosity  Perceptions of corruption  Health Care Index  Crime Index  \\\n",
       "0   -0.059482                   0.195445              75.79        23.32   \n",
       "1    0.066202                   0.168489              80.00        25.10   \n",
       "2    0.105911                   0.303728              72.44        21.60   \n",
       "3    0.246944                   0.711710              65.92        23.36   \n",
       "4    0.134533                   0.263218              74.36        35.43   \n",
       "\n",
       "   Safety Index  Cost of Living Index  Quality of Life Index  Pollution Index  \n",
       "0         76.68                 70.29                 190.22            11.55  \n",
       "1         74.90                 83.00                 192.67            21.33  \n",
       "2         78.40                122.40                 192.01            22.39  \n",
       "3         76.64                100.48                 181.75            16.21  \n",
       "4         64.57                101.43                 175.19            20.35  "
      ]
     },
     "execution_count": 14,
     "metadata": {},
     "output_type": "execute_result"
    }
   ],
   "source": [
    "df = cont_ds.merge(health_care_index, on = 'Country', how ='left').merge(\n",
    "    crime_index, on = 'Country', how ='left').merge(\n",
    "    cost_of_living, on = 'Country', how ='left').merge(\n",
    "    quality_of_life, on = 'Country', how ='left')\n",
    "\n",
    "df.head()"
   ]
  },
  {
   "cell_type": "markdown",
   "id": "b83b9b9b",
   "metadata": {},
   "source": [
    "# EDA: Cleaning, Exploring, Analyzing the Data"
   ]
  },
  {
   "cell_type": "markdown",
   "id": "ac09c6df",
   "metadata": {},
   "source": [
    "Cleaning:\n",
    "- Removed columns from different datasets as they are irrelevant for our project\n",
    "- Solved problem of 'no same column' during merging of all the datasets\n",
    "\n",
    "Limited data and Null values resolution:\n",
    "- Quality of life dataset has limited data, so we gathered more countries' data from other relevant datasets to eliminate as many Null values as possible in the above code."
   ]
  },
  {
   "cell_type": "code",
   "execution_count": 15,
   "id": "48acc4bb",
   "metadata": {},
   "outputs": [
    {
     "data": {
      "text/plain": [
       "(153, 15)"
      ]
     },
     "execution_count": 15,
     "metadata": {},
     "output_type": "execute_result"
    }
   ],
   "source": [
    "#Number of rows and columns in the merged dataset\n",
    "df.shape"
   ]
  },
  {
   "cell_type": "code",
   "execution_count": 16,
   "id": "83f5a0a6",
   "metadata": {},
   "outputs": [
    {
     "name": "stdout",
     "output_type": "stream",
     "text": [
      "<class 'pandas.core.frame.DataFrame'>\n",
      "Int64Index: 153 entries, 0 to 152\n",
      "Data columns (total 15 columns):\n",
      " #   Column                        Non-Null Count  Dtype  \n",
      "---  ------                        --------------  -----  \n",
      " 0   Country                       153 non-null    object \n",
      " 1   Regional indicator            153 non-null    object \n",
      " 2   Ladder score                  153 non-null    float64\n",
      " 3   Logged GDP per capita         153 non-null    float64\n",
      " 4   Social support                153 non-null    float64\n",
      " 5   Healthy life expectancy       153 non-null    float64\n",
      " 6   Freedom to make life choices  153 non-null    float64\n",
      " 7   Generosity                    153 non-null    float64\n",
      " 8   Perceptions of corruption     153 non-null    float64\n",
      " 9   Health Care Index             126 non-null    float64\n",
      " 10  Crime Index                   110 non-null    float64\n",
      " 11  Safety Index                  110 non-null    float64\n",
      " 12  Cost of Living Index          111 non-null    float64\n",
      " 13  Quality of Life Index         113 non-null    float64\n",
      " 14  Pollution Index               113 non-null    float64\n",
      "dtypes: float64(13), object(2)\n",
      "memory usage: 19.1+ KB\n"
     ]
    }
   ],
   "source": [
    "df.info()"
   ]
  },
  {
   "cell_type": "code",
   "execution_count": 17,
   "id": "549e1a51",
   "metadata": {},
   "outputs": [
    {
     "data": {
      "text/html": [
       "<div>\n",
       "<style scoped>\n",
       "    .dataframe tbody tr th:only-of-type {\n",
       "        vertical-align: middle;\n",
       "    }\n",
       "\n",
       "    .dataframe tbody tr th {\n",
       "        vertical-align: top;\n",
       "    }\n",
       "\n",
       "    .dataframe thead th {\n",
       "        text-align: right;\n",
       "    }\n",
       "</style>\n",
       "<table border=\"1\" class=\"dataframe\">\n",
       "  <thead>\n",
       "    <tr style=\"text-align: right;\">\n",
       "      <th></th>\n",
       "      <th>Ladder score</th>\n",
       "      <th>Logged GDP per capita</th>\n",
       "      <th>Social support</th>\n",
       "      <th>Healthy life expectancy</th>\n",
       "      <th>Freedom to make life choices</th>\n",
       "      <th>Generosity</th>\n",
       "      <th>Perceptions of corruption</th>\n",
       "      <th>Health Care Index</th>\n",
       "      <th>Crime Index</th>\n",
       "      <th>Safety Index</th>\n",
       "      <th>Cost of Living Index</th>\n",
       "      <th>Quality of Life Index</th>\n",
       "      <th>Pollution Index</th>\n",
       "    </tr>\n",
       "  </thead>\n",
       "  <tbody>\n",
       "    <tr>\n",
       "      <th>count</th>\n",
       "      <td>153.00000</td>\n",
       "      <td>153.000000</td>\n",
       "      <td>153.000000</td>\n",
       "      <td>153.000000</td>\n",
       "      <td>153.000000</td>\n",
       "      <td>153.000000</td>\n",
       "      <td>153.000000</td>\n",
       "      <td>126.000000</td>\n",
       "      <td>110.000000</td>\n",
       "      <td>110.000000</td>\n",
       "      <td>111.000000</td>\n",
       "      <td>113.000000</td>\n",
       "      <td>113.000000</td>\n",
       "    </tr>\n",
       "    <tr>\n",
       "      <th>mean</th>\n",
       "      <td>5.47324</td>\n",
       "      <td>9.295706</td>\n",
       "      <td>0.808721</td>\n",
       "      <td>64.445529</td>\n",
       "      <td>0.783360</td>\n",
       "      <td>-0.014568</td>\n",
       "      <td>0.733120</td>\n",
       "      <td>60.345516</td>\n",
       "      <td>43.838636</td>\n",
       "      <td>56.161364</td>\n",
       "      <td>48.519369</td>\n",
       "      <td>123.381062</td>\n",
       "      <td>57.421858</td>\n",
       "    </tr>\n",
       "    <tr>\n",
       "      <th>std</th>\n",
       "      <td>1.11227</td>\n",
       "      <td>1.201588</td>\n",
       "      <td>0.121453</td>\n",
       "      <td>7.057848</td>\n",
       "      <td>0.117786</td>\n",
       "      <td>0.151809</td>\n",
       "      <td>0.175172</td>\n",
       "      <td>10.838618</td>\n",
       "      <td>14.479915</td>\n",
       "      <td>14.479915</td>\n",
       "      <td>18.713451</td>\n",
       "      <td>33.767187</td>\n",
       "      <td>19.898337</td>\n",
       "    </tr>\n",
       "    <tr>\n",
       "      <th>min</th>\n",
       "      <td>2.56690</td>\n",
       "      <td>6.492642</td>\n",
       "      <td>0.319460</td>\n",
       "      <td>45.200001</td>\n",
       "      <td>0.396573</td>\n",
       "      <td>-0.300907</td>\n",
       "      <td>0.109784</td>\n",
       "      <td>38.050000</td>\n",
       "      <td>15.700000</td>\n",
       "      <td>15.510000</td>\n",
       "      <td>21.980000</td>\n",
       "      <td>55.650000</td>\n",
       "      <td>11.550000</td>\n",
       "    </tr>\n",
       "    <tr>\n",
       "      <th>25%</th>\n",
       "      <td>4.72410</td>\n",
       "      <td>8.350645</td>\n",
       "      <td>0.737217</td>\n",
       "      <td>58.961712</td>\n",
       "      <td>0.714839</td>\n",
       "      <td>-0.127015</td>\n",
       "      <td>0.683019</td>\n",
       "      <td>53.075000</td>\n",
       "      <td>32.235000</td>\n",
       "      <td>46.860000</td>\n",
       "      <td>34.695000</td>\n",
       "      <td>97.840000</td>\n",
       "      <td>40.560000</td>\n",
       "    </tr>\n",
       "    <tr>\n",
       "      <th>50%</th>\n",
       "      <td>5.51500</td>\n",
       "      <td>9.456313</td>\n",
       "      <td>0.829204</td>\n",
       "      <td>66.305145</td>\n",
       "      <td>0.799805</td>\n",
       "      <td>-0.033665</td>\n",
       "      <td>0.783122</td>\n",
       "      <td>59.975000</td>\n",
       "      <td>43.845000</td>\n",
       "      <td>56.155000</td>\n",
       "      <td>42.870000</td>\n",
       "      <td>115.950000</td>\n",
       "      <td>62.790000</td>\n",
       "    </tr>\n",
       "    <tr>\n",
       "      <th>75%</th>\n",
       "      <td>6.22850</td>\n",
       "      <td>10.265124</td>\n",
       "      <td>0.906747</td>\n",
       "      <td>69.289192</td>\n",
       "      <td>0.877709</td>\n",
       "      <td>0.085429</td>\n",
       "      <td>0.849151</td>\n",
       "      <td>68.445000</td>\n",
       "      <td>53.140000</td>\n",
       "      <td>67.765000</td>\n",
       "      <td>57.875000</td>\n",
       "      <td>152.530000</td>\n",
       "      <td>72.480000</td>\n",
       "    </tr>\n",
       "    <tr>\n",
       "      <th>max</th>\n",
       "      <td>7.80870</td>\n",
       "      <td>11.450681</td>\n",
       "      <td>0.974670</td>\n",
       "      <td>76.804581</td>\n",
       "      <td>0.974998</td>\n",
       "      <td>0.560664</td>\n",
       "      <td>0.935585</td>\n",
       "      <td>81.970000</td>\n",
       "      <td>84.490000</td>\n",
       "      <td>84.300000</td>\n",
       "      <td>122.400000</td>\n",
       "      <td>192.670000</td>\n",
       "      <td>88.370000</td>\n",
       "    </tr>\n",
       "  </tbody>\n",
       "</table>\n",
       "</div>"
      ],
      "text/plain": [
       "       Ladder score  Logged GDP per capita  Social support  \\\n",
       "count     153.00000             153.000000      153.000000   \n",
       "mean        5.47324               9.295706        0.808721   \n",
       "std         1.11227               1.201588        0.121453   \n",
       "min         2.56690               6.492642        0.319460   \n",
       "25%         4.72410               8.350645        0.737217   \n",
       "50%         5.51500               9.456313        0.829204   \n",
       "75%         6.22850              10.265124        0.906747   \n",
       "max         7.80870              11.450681        0.974670   \n",
       "\n",
       "       Healthy life expectancy  Freedom to make life choices  Generosity  \\\n",
       "count               153.000000                    153.000000  153.000000   \n",
       "mean                 64.445529                      0.783360   -0.014568   \n",
       "std                   7.057848                      0.117786    0.151809   \n",
       "min                  45.200001                      0.396573   -0.300907   \n",
       "25%                  58.961712                      0.714839   -0.127015   \n",
       "50%                  66.305145                      0.799805   -0.033665   \n",
       "75%                  69.289192                      0.877709    0.085429   \n",
       "max                  76.804581                      0.974998    0.560664   \n",
       "\n",
       "       Perceptions of corruption  Health Care Index  Crime Index  \\\n",
       "count                 153.000000         126.000000   110.000000   \n",
       "mean                    0.733120          60.345516    43.838636   \n",
       "std                     0.175172          10.838618    14.479915   \n",
       "min                     0.109784          38.050000    15.700000   \n",
       "25%                     0.683019          53.075000    32.235000   \n",
       "50%                     0.783122          59.975000    43.845000   \n",
       "75%                     0.849151          68.445000    53.140000   \n",
       "max                     0.935585          81.970000    84.490000   \n",
       "\n",
       "       Safety Index  Cost of Living Index  Quality of Life Index  \\\n",
       "count    110.000000            111.000000             113.000000   \n",
       "mean      56.161364             48.519369             123.381062   \n",
       "std       14.479915             18.713451              33.767187   \n",
       "min       15.510000             21.980000              55.650000   \n",
       "25%       46.860000             34.695000              97.840000   \n",
       "50%       56.155000             42.870000             115.950000   \n",
       "75%       67.765000             57.875000             152.530000   \n",
       "max       84.300000            122.400000             192.670000   \n",
       "\n",
       "       Pollution Index  \n",
       "count       113.000000  \n",
       "mean         57.421858  \n",
       "std          19.898337  \n",
       "min          11.550000  \n",
       "25%          40.560000  \n",
       "50%          62.790000  \n",
       "75%          72.480000  \n",
       "max          88.370000  "
      ]
     },
     "execution_count": 17,
     "metadata": {},
     "output_type": "execute_result"
    }
   ],
   "source": [
    "#To get an overview of the data\n",
    "df.describe()"
   ]
  },
  {
   "cell_type": "code",
   "execution_count": 18,
   "id": "034c25f5",
   "metadata": {},
   "outputs": [
    {
     "data": {
      "text/plain": [
       "array(['Finland', 'Denmark', 'Switzerland', 'Iceland', 'Norway',\n",
       "       'Netherlands', 'Sweden', 'New Zealand', 'Austria', 'Luxembourg',\n",
       "       'Canada', 'Australia', 'United Kingdom', 'Israel', 'Costa Rica',\n",
       "       'Ireland', 'Germany', 'United States', 'Czech Republic', 'Belgium',\n",
       "       'United Arab Emirates', 'Malta', 'France', 'Mexico',\n",
       "       'Taiwan Province of China', 'Uruguay', 'Saudi Arabia', 'Spain',\n",
       "       'Guatemala', 'Italy', 'Singapore', 'Brazil', 'Slovenia',\n",
       "       'El Salvador', 'Kosovo', 'Panama', 'Slovakia', 'Uzbekistan',\n",
       "       'Chile', 'Bahrain', 'Lithuania', 'Trinidad and Tobago', 'Poland',\n",
       "       'Colombia', 'Cyprus', 'Nicaragua', 'Romania', 'Kuwait',\n",
       "       'Mauritius', 'Kazakhstan', 'Estonia', 'Philippines', 'Hungary',\n",
       "       'Thailand', 'Argentina', 'Honduras', 'Latvia', 'Ecuador',\n",
       "       'Portugal', 'Jamaica', 'South Korea', 'Japan', 'Peru', 'Serbia',\n",
       "       'Bolivia', 'Pakistan', 'Paraguay', 'Dominican Republic',\n",
       "       'Bosnia and Herzegovina', 'Moldova', 'Tajikistan', 'Montenegro',\n",
       "       'Russia', 'Kyrgyzstan', 'Belarus', 'North Cyprus', 'Greece',\n",
       "       'Hong Kong S.A.R. of China', 'Croatia', 'Libya', 'Mongolia',\n",
       "       'Malaysia', 'Vietnam', 'Indonesia', 'Ivory Coast', 'Benin',\n",
       "       'Maldives', 'Congo (Brazzaville)', 'Azerbaijan', 'Macedonia',\n",
       "       'Ghana', 'Nepal', 'Turkey', 'China', 'Turkmenistan', 'Bulgaria',\n",
       "       'Morocco', 'Cameroon', 'Venezuela', 'Algeria', 'Senegal', 'Guinea',\n",
       "       'Niger', 'Laos', 'Albania', 'Cambodia', 'Bangladesh', 'Gabon',\n",
       "       'South Africa', 'Iraq', 'Lebanon', 'Burkina Faso', 'Gambia',\n",
       "       'Mali', 'Nigeria', 'Armenia', 'Georgia', 'Iran', 'Jordan',\n",
       "       'Mozambique', 'Kenya', 'Namibia', 'Ukraine', 'Liberia',\n",
       "       'Palestinian Territories', 'Uganda', 'Chad', 'Tunisia',\n",
       "       'Mauritania', 'Sri Lanka', 'Congo (Kinshasa)', 'Swaziland',\n",
       "       'Myanmar', 'Comoros', 'Togo', 'Ethiopia', 'Madagascar', 'Egypt',\n",
       "       'Sierra Leone', 'Burundi', 'Zambia', 'Haiti', 'Lesotho', 'India',\n",
       "       'Malawi', 'Yemen', 'Botswana', 'Tanzania',\n",
       "       'Central African Republic', 'Rwanda', 'Zimbabwe', 'South Sudan',\n",
       "       'Afghanistan'], dtype=object)"
      ]
     },
     "execution_count": 18,
     "metadata": {},
     "output_type": "execute_result"
    }
   ],
   "source": [
    "#To make sure no country is repeated\n",
    "df.Country.unique()"
   ]
  },
  {
   "cell_type": "code",
   "execution_count": 19,
   "id": "a3fb56f3",
   "metadata": {},
   "outputs": [
    {
     "data": {
      "text/plain": [
       "Sub-Saharan Africa                    39\n",
       "Western Europe                        21\n",
       "Latin America and Caribbean           21\n",
       "Middle East and North Africa          17\n",
       "Central and Eastern Europe            17\n",
       "Commonwealth of Independent States    12\n",
       "Southeast Asia                         9\n",
       "South Asia                             7\n",
       "East Asia                              6\n",
       "North America and ANZ                  4\n",
       "Name: Regional indicator, dtype: int64"
      ]
     },
     "execution_count": 19,
     "metadata": {},
     "output_type": "execute_result"
    }
   ],
   "source": [
    "#To know how many countries belong to which region\n",
    "df['Regional indicator'].value_counts()"
   ]
  },
  {
   "cell_type": "markdown",
   "id": "df4ae353",
   "metadata": {},
   "source": [
    "### Sanity Checks:\n",
    "\n",
    "- The Ladder score, Healthy life expentency, crime Index, cost of living index, quality of life index and pollution index cannot be zero or negative"
   ]
  },
  {
   "cell_type": "code",
   "execution_count": 20,
   "id": "c0189da4",
   "metadata": {},
   "outputs": [
    {
     "name": "stdout",
     "output_type": "stream",
     "text": [
      "Number of zero or negative values in Ladder Score: 0\n",
      "Number of zero or negative values in Healthy life expentency: 0\n",
      "Number of zero or negative values in crime index: 0\n",
      "Number of zero or negative values in cost of living index: 0\n",
      "Number of zero or negative values in quality of life index: 0\n",
      "Number of zero or negative values in pollution index: 0\n"
     ]
    }
   ],
   "source": [
    "print('Number of zero or negative values in Ladder Score:', len(df.loc[df['Ladder score']<=0,:]))\n",
    "print('Number of zero or negative values in Healthy life expentency:', len(df.loc[df['Healthy life expectancy']<=0,:]))\n",
    "print('Number of zero or negative values in crime index:', len(df.loc[df['Crime Index']<=0,:]))\n",
    "print('Number of zero or negative values in cost of living index:', len(df.loc[df['Cost of Living Index']<=0,:]))\n",
    "print('Number of zero or negative values in quality of life index:', len(df.loc[df['Quality of Life Index']<=0,:]))\n",
    "print('Number of zero or negative values in pollution index:', len(df.loc[df['Pollution Index']<=0,:]))"
   ]
  },
  {
   "cell_type": "markdown",
   "id": "7ecc208f",
   "metadata": {},
   "source": [
    "- The social support, freedom to make life choices and perceptions to corruption columns should have values between 0 and 1, as the values in them are the average of a binary question asked to multiple people with '0' being 'No' and '1' being 'Yes'."
   ]
  },
  {
   "cell_type": "code",
   "execution_count": 21,
   "id": "9bc1fd56",
   "metadata": {},
   "outputs": [
    {
     "data": {
      "text/plain": [
       "count    153.000000\n",
       "mean       0.808721\n",
       "std        0.121453\n",
       "min        0.319460\n",
       "25%        0.737217\n",
       "50%        0.829204\n",
       "75%        0.906747\n",
       "max        0.974670\n",
       "Name: Social support, dtype: float64"
      ]
     },
     "execution_count": 21,
     "metadata": {},
     "output_type": "execute_result"
    }
   ],
   "source": [
    "df['Social support'].describe()"
   ]
  },
  {
   "cell_type": "code",
   "execution_count": 22,
   "id": "7fcc9ccf",
   "metadata": {},
   "outputs": [
    {
     "data": {
      "text/plain": [
       "count    153.000000\n",
       "mean       0.783360\n",
       "std        0.117786\n",
       "min        0.396573\n",
       "25%        0.714839\n",
       "50%        0.799805\n",
       "75%        0.877709\n",
       "max        0.974998\n",
       "Name: Freedom to make life choices, dtype: float64"
      ]
     },
     "execution_count": 22,
     "metadata": {},
     "output_type": "execute_result"
    }
   ],
   "source": [
    "df['Freedom to make life choices'].describe()"
   ]
  },
  {
   "cell_type": "code",
   "execution_count": 23,
   "id": "0c715f27",
   "metadata": {},
   "outputs": [
    {
     "data": {
      "text/plain": [
       "count    153.000000\n",
       "mean       0.733120\n",
       "std        0.175172\n",
       "min        0.109784\n",
       "25%        0.683019\n",
       "50%        0.783122\n",
       "75%        0.849151\n",
       "max        0.935585\n",
       "Name: Perceptions of corruption, dtype: float64"
      ]
     },
     "execution_count": 23,
     "metadata": {},
     "output_type": "execute_result"
    }
   ],
   "source": [
    "df['Perceptions of corruption'].describe()"
   ]
  },
  {
   "cell_type": "markdown",
   "id": "e5bc6e6f",
   "metadata": {},
   "source": [
    "# Data Visualization"
   ]
  },
  {
   "cell_type": "code",
   "execution_count": 24,
   "id": "0d0ac23d",
   "metadata": {},
   "outputs": [],
   "source": [
    "df1 = df.groupby(['Regional indicator']).mean()\n",
    "df2 = df.groupby(['Regional indicator']).mean()\n",
    "df11 = df1[['Ladder score', 'Logged GDP per capita']]\n",
    "df111 = df1[['Ladder score','Healthy life expectancy', 'Health Care Index', 'Crime Index', 'Cost of Living Index',\n",
    "             'Pollution Index']]"
   ]
  },
  {
   "cell_type": "markdown",
   "id": "e002c267",
   "metadata": {},
   "source": [
    "- Which region is more wealthy and happy overall?"
   ]
  },
  {
   "cell_type": "code",
   "execution_count": 25,
   "id": "5d8903b2",
   "metadata": {},
   "outputs": [
    {
     "data": {
      "text/plain": [
       "<AxesSubplot:title={'center':'Region wise health and ladder score'}, ylabel='Regional indicator'>"
      ]
     },
     "execution_count": 25,
     "metadata": {},
     "output_type": "execute_result"
    },
    {
     "data": {
      "image/png": "[encoded data removed]",
      "text/plain": [
       "<Figure size 864x576 with 2 Axes>"
      ]
     },
     "metadata": {
      "needs_background": "light"
     },
     "output_type": "display_data"
    }
   ],
   "source": [
    "plt.figure(figsize=(12,8))\n",
    "plt.title(\"Region wise health and ladder score\")\n",
    "sns.heatmap(df11.sort_values(by='Ladder score', ascending=False), annot=True, fmt='.1f', linewidth=.5)"
   ]
  },
  {
   "cell_type": "markdown",
   "id": "b98134ab",
   "metadata": {},
   "source": [
    "We see that there is clear relation between the ladder score and logged GDP per capita, as regions where ladder score is low, the GDP per capitas are also low."
   ]
  },
  {
   "cell_type": "markdown",
   "id": "17fa2107",
   "metadata": {},
   "source": [
    "- Each regions overview of different indices. "
   ]
  },
  {
   "cell_type": "code",
   "execution_count": 26,
   "id": "311d395c",
   "metadata": {},
   "outputs": [
    {
     "data": {
      "text/plain": [
       "<AxesSubplot:title={'center':'Region wise overview of different indices'}, ylabel='Regional indicator'>"
      ]
     },
     "execution_count": 26,
     "metadata": {},
     "output_type": "execute_result"
    },
    {
     "data": {
      "image/png": "[encoded data removed]",
      "text/plain": [
       "<Figure size 864x576 with 2 Axes>"
      ]
     },
     "metadata": {
      "needs_background": "light"
     },
     "output_type": "display_data"
    }
   ],
   "source": [
    "plt.figure(figsize=(12,8))\n",
    "plt.title(\"Region wise overview of different indices\")\n",
    "sns.heatmap(df111.sort_values(by='Ladder score', ascending=False), annot=True, fmt='.1f', linewidth=.5)"
   ]
  },
  {
   "cell_type": "markdown",
   "id": "0831fd0d",
   "metadata": {},
   "source": [
    " We observe that in regions where the health care index is high, the healthy life expectancy is high and the overall happiness index is high, but no proper relation can be seen that factors like crime index, cost of living and pollution index affect the happiness index."
   ]
  },
  {
   "cell_type": "markdown",
   "id": "025aa622",
   "metadata": {},
   "source": [
    "- Different regions' Quality of Life"
   ]
  },
  {
   "cell_type": "code",
   "execution_count": 27,
   "id": "07394ff1",
   "metadata": {},
   "outputs": [
    {
     "data": {
      "image/png": "[encoded data removed]",
      "text/plain": [
       "<Figure size 432x288 with 1 Axes>"
      ]
     },
     "metadata": {
      "needs_background": "light"
     },
     "output_type": "display_data"
    }
   ],
   "source": [
    "df1 = df1.reset_index().sort_values(by='Ladder score', ascending=False)\n",
    "plt.title(\"Region wise quality of life index\")\n",
    "sns.pointplot(data=df1.sort_values(by='Quality of Life Index', ascending=False), x='Quality of Life Index',\n",
    "              y='Regional indicator')\n",
    "plt.grid()"
   ]
  },
  {
   "cell_type": "markdown",
   "id": "af89bf6e",
   "metadata": {},
   "source": [
    "We see that the quality of life is lowest in the Sub-Saharan Africa region and highest in North America and ANZ region"
   ]
  },
  {
   "cell_type": "markdown",
   "id": "465dd8ff",
   "metadata": {},
   "source": [
    "- Does pollution affect Healthy life expentancy?"
   ]
  },
  {
   "cell_type": "code",
   "execution_count": 28,
   "id": "a0380334",
   "metadata": {},
   "outputs": [
    {
     "data": {
      "text/plain": [
       "<AxesSubplot:title={'center':'Pollution index vs Healthy life expectancy'}, xlabel='Pollution Index', ylabel='Healthy life expectancy'>"
      ]
     },
     "execution_count": 28,
     "metadata": {},
     "output_type": "execute_result"
    },
    {
     "data": {
      "image/png": "[encoded data removed]",
      "text/plain": [
       "<Figure size 432x288 with 1 Axes>"
      ]
     },
     "metadata": {
      "needs_background": "light"
     },
     "output_type": "display_data"
    }
   ],
   "source": [
    "plt.title(\"Pollution index vs Healthy life expectancy\")\n",
    "sns.scatterplot(data=df, x= 'Pollution Index', y='Healthy life expectancy')"
   ]
  },
  {
   "cell_type": "markdown",
   "id": "13574c81",
   "metadata": {},
   "source": [
    "We can observe here that mostly where pollution index is lower, there is higher life expectancy and with higher pollution index, life expectancy is lower."
   ]
  },
  {
   "cell_type": "markdown",
   "id": "f4a97472",
   "metadata": {},
   "source": [
    "- Do countries which have higher GDP per capita have a better health care index or no?"
   ]
  },
  {
   "cell_type": "code",
   "execution_count": 29,
   "id": "3283f750",
   "metadata": {},
   "outputs": [
    {
     "data": {
      "text/plain": [
       "<AxesSubplot:title={'center':'Logged GDP per capita vs Health Care Index'}, xlabel='Logged GDP per capita', ylabel='Health Care Index'>"
      ]
     },
     "execution_count": 29,
     "metadata": {},
     "output_type": "execute_result"
    },
    {
     "data": {
      "image/png": "[encoded data removed]",
      "text/plain": [
       "<Figure size 432x288 with 1 Axes>"
      ]
     },
     "metadata": {
      "needs_background": "light"
     },
     "output_type": "display_data"
    }
   ],
   "source": [
    "plt.title(\"Logged GDP per capita vs Health Care Index\")\n",
    "sns.scatterplot(data=df.sort_values(by='Logged GDP per capita'), x='Logged GDP per capita', y='Health Care Index')"
   ]
  },
  {
   "cell_type": "markdown",
   "id": "1ba8f27d",
   "metadata": {},
   "source": [
    "There is no concrete relation between GDP per capita and health care index."
   ]
  },
  {
   "cell_type": "markdown",
   "id": "5fa3f0dc",
   "metadata": {},
   "source": [
    "- Does crime affect Quality of life?"
   ]
  },
  {
   "cell_type": "code",
   "execution_count": 30,
   "id": "d1a01484",
   "metadata": {},
   "outputs": [
    {
     "data": {
      "text/plain": [
       "Text(0.5, 1.0, 'Crime Index vs Quality of Life Index')"
      ]
     },
     "execution_count": 30,
     "metadata": {},
     "output_type": "execute_result"
    },
    {
     "data": {
      "image/png": "[encoded data removed]",
      "text/plain": [
       "<Figure size 360x360 with 1 Axes>"
      ]
     },
     "metadata": {
      "needs_background": "light"
     },
     "output_type": "display_data"
    }
   ],
   "source": [
    "\n",
    "sns.displot(data=df, x='Crime Index', y='Quality of Life Index')\n",
    "plt.title(\"Crime Index vs Quality of Life Index\")"
   ]
  },
  {
   "cell_type": "markdown",
   "id": "7ff6b613",
   "metadata": {},
   "source": [
    "Even here we do not observe a strong relation between crime index and quality of life."
   ]
  },
  {
   "cell_type": "markdown",
   "id": "42b04415",
   "metadata": {},
   "source": [
    "- Does Logged GDP per capita and People's perceptions of corruption in their countries have any relation?"
   ]
  },
  {
   "cell_type": "code",
   "execution_count": 31,
   "id": "7dbd632a",
   "metadata": {},
   "outputs": [
    {
     "data": {
      "text/plain": [
       "Text(0.5, 1.0, 'Logged GDP per capita vs Perceptions of corruption')"
      ]
     },
     "execution_count": 31,
     "metadata": {},
     "output_type": "execute_result"
    },
    {
     "data": {
      "image/png": "[encoded data removed]",
      "text/plain": [
       "<Figure size 360x360 with 1 Axes>"
      ]
     },
     "metadata": {
      "needs_background": "light"
     },
     "output_type": "display_data"
    }
   ],
   "source": [
    "\n",
    "sns.relplot(data=df, y='Perceptions of corruption', x='Logged GDP per capita')\n",
    "plt.title(\"Logged GDP per capita vs Perceptions of corruption\")"
   ]
  },
  {
   "cell_type": "markdown",
   "id": "95fb93ba",
   "metadata": {},
   "source": [
    "Generally, every country's people have some degree of perception of corruption in their country, but we can observe that the highest GDP per capita countries have it less compared to others."
   ]
  },
  {
   "cell_type": "markdown",
   "id": "a356e303",
   "metadata": {},
   "source": [
    "- Does Social Support affect Ladder Score?"
   ]
  },
  {
   "cell_type": "code",
   "execution_count": 32,
   "id": "b66e174f",
   "metadata": {},
   "outputs": [
    {
     "data": {
      "text/plain": [
       "<AxesSubplot:title={'center':'Ladder score vs Social support'}, xlabel='Ladder score', ylabel='Social support'>"
      ]
     },
     "execution_count": 32,
     "metadata": {},
     "output_type": "execute_result"
    },
    {
     "data": {
      "image/png": "[encoded data removed]",
      "text/plain": [
       "<Figure size 432x288 with 1 Axes>"
      ]
     },
     "metadata": {
      "needs_background": "light"
     },
     "output_type": "display_data"
    }
   ],
   "source": [
    "df2.pivot(columns=['Ladder score'])\n",
    "plt.title(\"Ladder score vs Social support\")\n",
    "plt.grid()\n",
    "sns.lineplot(data=df2, y='Social support', x='Ladder score')"
   ]
  },
  {
   "cell_type": "markdown",
   "id": "311d3be1",
   "metadata": {},
   "source": [
    "There is a significant linear relation between social support and ladder score here, with the highest ladder score having the highest social support."
   ]
  },
  {
   "cell_type": "code",
   "execution_count": 33,
   "id": "94f6ca32",
   "metadata": {},
   "outputs": [],
   "source": [
    "c = pd.read_csv(\"csvData.csv\", usecols = ['Country', 'crimeIndex'])\n",
    "df = df.merge(c, on='Country')\n",
    "df = df.dropna()\n"
   ]
  },
  {
   "cell_type": "markdown",
   "id": "237cff5c",
   "metadata": {},
   "source": [
    "# Is there a difference in the crime index of 2020 and 2021?"
   ]
  },
  {
   "cell_type": "markdown",
   "id": "b8a682e6",
   "metadata": {},
   "source": [
    "Null Hypothesis - There is no difference between crime index of 2020 and 2021"
   ]
  },
  {
   "cell_type": "code",
   "execution_count": 34,
   "id": "aa194852",
   "metadata": {},
   "outputs": [
    {
     "data": {
      "text/html": [
       "<div>\n",
       "<style scoped>\n",
       "    .dataframe tbody tr th:only-of-type {\n",
       "        vertical-align: middle;\n",
       "    }\n",
       "\n",
       "    .dataframe tbody tr th {\n",
       "        vertical-align: top;\n",
       "    }\n",
       "\n",
       "    .dataframe thead th {\n",
       "        text-align: right;\n",
       "    }\n",
       "</style>\n",
       "<table border=\"1\" class=\"dataframe\">\n",
       "  <thead>\n",
       "    <tr style=\"text-align: right;\">\n",
       "      <th></th>\n",
       "      <th>Country</th>\n",
       "      <th>Regional indicator</th>\n",
       "      <th>Ladder score</th>\n",
       "      <th>Logged GDP per capita</th>\n",
       "      <th>Social support</th>\n",
       "      <th>Healthy life expectancy</th>\n",
       "      <th>Freedom to make life choices</th>\n",
       "      <th>Generosity</th>\n",
       "      <th>Perceptions of corruption</th>\n",
       "      <th>Health Care Index</th>\n",
       "      <th>crimeindex2020</th>\n",
       "      <th>Safety Index</th>\n",
       "      <th>Cost of Living Index</th>\n",
       "      <th>Quality of Life Index</th>\n",
       "      <th>Pollution Index</th>\n",
       "      <th>crimeindex2021</th>\n",
       "    </tr>\n",
       "  </thead>\n",
       "  <tbody>\n",
       "    <tr>\n",
       "      <th>0</th>\n",
       "      <td>Finland</td>\n",
       "      <td>Western Europe</td>\n",
       "      <td>7.8087</td>\n",
       "      <td>10.639267</td>\n",
       "      <td>0.954330</td>\n",
       "      <td>71.900825</td>\n",
       "      <td>0.949172</td>\n",
       "      <td>-0.059482</td>\n",
       "      <td>0.195445</td>\n",
       "      <td>75.79</td>\n",
       "      <td>23.32</td>\n",
       "      <td>76.68</td>\n",
       "      <td>70.29</td>\n",
       "      <td>190.22</td>\n",
       "      <td>11.55</td>\n",
       "      <td>27.59</td>\n",
       "    </tr>\n",
       "    <tr>\n",
       "      <th>1</th>\n",
       "      <td>Denmark</td>\n",
       "      <td>Western Europe</td>\n",
       "      <td>7.6456</td>\n",
       "      <td>10.774001</td>\n",
       "      <td>0.955991</td>\n",
       "      <td>72.402504</td>\n",
       "      <td>0.951444</td>\n",
       "      <td>0.066202</td>\n",
       "      <td>0.168489</td>\n",
       "      <td>80.00</td>\n",
       "      <td>25.10</td>\n",
       "      <td>74.90</td>\n",
       "      <td>83.00</td>\n",
       "      <td>192.67</td>\n",
       "      <td>21.33</td>\n",
       "      <td>26.22</td>\n",
       "    </tr>\n",
       "    <tr>\n",
       "      <th>2</th>\n",
       "      <td>Switzerland</td>\n",
       "      <td>Western Europe</td>\n",
       "      <td>7.5599</td>\n",
       "      <td>10.979933</td>\n",
       "      <td>0.942847</td>\n",
       "      <td>74.102448</td>\n",
       "      <td>0.921337</td>\n",
       "      <td>0.105911</td>\n",
       "      <td>0.303728</td>\n",
       "      <td>72.44</td>\n",
       "      <td>21.60</td>\n",
       "      <td>78.40</td>\n",
       "      <td>122.40</td>\n",
       "      <td>192.01</td>\n",
       "      <td>22.39</td>\n",
       "      <td>21.62</td>\n",
       "    </tr>\n",
       "    <tr>\n",
       "      <th>3</th>\n",
       "      <td>Iceland</td>\n",
       "      <td>Western Europe</td>\n",
       "      <td>7.5045</td>\n",
       "      <td>10.772559</td>\n",
       "      <td>0.974670</td>\n",
       "      <td>73.000000</td>\n",
       "      <td>0.948892</td>\n",
       "      <td>0.246944</td>\n",
       "      <td>0.711710</td>\n",
       "      <td>65.92</td>\n",
       "      <td>23.36</td>\n",
       "      <td>76.64</td>\n",
       "      <td>100.48</td>\n",
       "      <td>181.75</td>\n",
       "      <td>16.21</td>\n",
       "      <td>23.75</td>\n",
       "    </tr>\n",
       "    <tr>\n",
       "      <th>4</th>\n",
       "      <td>Norway</td>\n",
       "      <td>Western Europe</td>\n",
       "      <td>7.4880</td>\n",
       "      <td>11.087804</td>\n",
       "      <td>0.952487</td>\n",
       "      <td>73.200783</td>\n",
       "      <td>0.955750</td>\n",
       "      <td>0.134533</td>\n",
       "      <td>0.263218</td>\n",
       "      <td>74.36</td>\n",
       "      <td>35.43</td>\n",
       "      <td>64.57</td>\n",
       "      <td>101.43</td>\n",
       "      <td>175.19</td>\n",
       "      <td>20.35</td>\n",
       "      <td>33.72</td>\n",
       "    </tr>\n",
       "    <tr>\n",
       "      <th>...</th>\n",
       "      <td>...</td>\n",
       "      <td>...</td>\n",
       "      <td>...</td>\n",
       "      <td>...</td>\n",
       "      <td>...</td>\n",
       "      <td>...</td>\n",
       "      <td>...</td>\n",
       "      <td>...</td>\n",
       "      <td>...</td>\n",
       "      <td>...</td>\n",
       "      <td>...</td>\n",
       "      <td>...</td>\n",
       "      <td>...</td>\n",
       "      <td>...</td>\n",
       "      <td>...</td>\n",
       "      <td>...</td>\n",
       "    </tr>\n",
       "    <tr>\n",
       "      <th>107</th>\n",
       "      <td>Egypt</td>\n",
       "      <td>Middle East and North Africa</td>\n",
       "      <td>4.1514</td>\n",
       "      <td>9.316542</td>\n",
       "      <td>0.735448</td>\n",
       "      <td>61.780151</td>\n",
       "      <td>0.708354</td>\n",
       "      <td>-0.196878</td>\n",
       "      <td>0.787727</td>\n",
       "      <td>45.84</td>\n",
       "      <td>46.92</td>\n",
       "      <td>53.08</td>\n",
       "      <td>29.54</td>\n",
       "      <td>86.54</td>\n",
       "      <td>85.65</td>\n",
       "      <td>46.83</td>\n",
       "    </tr>\n",
       "    <tr>\n",
       "      <th>109</th>\n",
       "      <td>India</td>\n",
       "      <td>South Asia</td>\n",
       "      <td>3.5733</td>\n",
       "      <td>8.849824</td>\n",
       "      <td>0.592201</td>\n",
       "      <td>60.215187</td>\n",
       "      <td>0.881445</td>\n",
       "      <td>0.057552</td>\n",
       "      <td>0.772043</td>\n",
       "      <td>67.13</td>\n",
       "      <td>43.32</td>\n",
       "      <td>56.68</td>\n",
       "      <td>24.58</td>\n",
       "      <td>108.63</td>\n",
       "      <td>78.87</td>\n",
       "      <td>44.43</td>\n",
       "    </tr>\n",
       "    <tr>\n",
       "      <th>111</th>\n",
       "      <td>Tanzania</td>\n",
       "      <td>Sub-Saharan Africa</td>\n",
       "      <td>3.4762</td>\n",
       "      <td>7.967665</td>\n",
       "      <td>0.688933</td>\n",
       "      <td>57.496075</td>\n",
       "      <td>0.821540</td>\n",
       "      <td>0.109669</td>\n",
       "      <td>0.619799</td>\n",
       "      <td>54.29</td>\n",
       "      <td>58.95</td>\n",
       "      <td>41.05</td>\n",
       "      <td>35.25</td>\n",
       "      <td>96.45</td>\n",
       "      <td>80.78</td>\n",
       "      <td>56.00</td>\n",
       "    </tr>\n",
       "    <tr>\n",
       "      <th>113</th>\n",
       "      <td>Zimbabwe</td>\n",
       "      <td>Sub-Saharan Africa</td>\n",
       "      <td>3.2992</td>\n",
       "      <td>7.865712</td>\n",
       "      <td>0.763093</td>\n",
       "      <td>55.617260</td>\n",
       "      <td>0.711458</td>\n",
       "      <td>-0.072064</td>\n",
       "      <td>0.810237</td>\n",
       "      <td>52.34</td>\n",
       "      <td>57.47</td>\n",
       "      <td>42.53</td>\n",
       "      <td>55.30</td>\n",
       "      <td>75.18</td>\n",
       "      <td>73.19</td>\n",
       "      <td>59.30</td>\n",
       "    </tr>\n",
       "    <tr>\n",
       "      <th>114</th>\n",
       "      <td>Afghanistan</td>\n",
       "      <td>South Asia</td>\n",
       "      <td>2.5669</td>\n",
       "      <td>7.462861</td>\n",
       "      <td>0.470367</td>\n",
       "      <td>52.590000</td>\n",
       "      <td>0.396573</td>\n",
       "      <td>-0.096429</td>\n",
       "      <td>0.933687</td>\n",
       "      <td>45.28</td>\n",
       "      <td>76.23</td>\n",
       "      <td>23.77</td>\n",
       "      <td>24.24</td>\n",
       "      <td>76.48</td>\n",
       "      <td>70.97</td>\n",
       "      <td>76.31</td>\n",
       "    </tr>\n",
       "  </tbody>\n",
       "</table>\n",
       "<p>100 rows × 16 columns</p>\n",
       "</div>"
      ],
      "text/plain": [
       "         Country            Regional indicator  Ladder score  \\\n",
       "0        Finland                Western Europe        7.8087   \n",
       "1        Denmark                Western Europe        7.6456   \n",
       "2    Switzerland                Western Europe        7.5599   \n",
       "3        Iceland                Western Europe        7.5045   \n",
       "4         Norway                Western Europe        7.4880   \n",
       "..           ...                           ...           ...   \n",
       "107        Egypt  Middle East and North Africa        4.1514   \n",
       "109        India                    South Asia        3.5733   \n",
       "111     Tanzania            Sub-Saharan Africa        3.4762   \n",
       "113     Zimbabwe            Sub-Saharan Africa        3.2992   \n",
       "114  Afghanistan                    South Asia        2.5669   \n",
       "\n",
       "     Logged GDP per capita  Social support  Healthy life expectancy  \\\n",
       "0                10.639267        0.954330                71.900825   \n",
       "1                10.774001        0.955991                72.402504   \n",
       "2                10.979933        0.942847                74.102448   \n",
       "3                10.772559        0.974670                73.000000   \n",
       "4                11.087804        0.952487                73.200783   \n",
       "..                     ...             ...                      ...   \n",
       "107               9.316542        0.735448                61.780151   \n",
       "109               8.849824        0.592201                60.215187   \n",
       "111               7.967665        0.688933                57.496075   \n",
       "113               7.865712        0.763093                55.617260   \n",
       "114               7.462861        0.470367                52.590000   \n",
       "\n",
       "     Freedom to make life choices  Generosity  Perceptions of corruption  \\\n",
       "0                        0.949172   -0.059482                   0.195445   \n",
       "1                        0.951444    0.066202                   0.168489   \n",
       "2                        0.921337    0.105911                   0.303728   \n",
       "3                        0.948892    0.246944                   0.711710   \n",
       "4                        0.955750    0.134533                   0.263218   \n",
       "..                            ...         ...                        ...   \n",
       "107                      0.708354   -0.196878                   0.787727   \n",
       "109                      0.881445    0.057552                   0.772043   \n",
       "111                      0.821540    0.109669                   0.619799   \n",
       "113                      0.711458   -0.072064                   0.810237   \n",
       "114                      0.396573   -0.096429                   0.933687   \n",
       "\n",
       "     Health Care Index  crimeindex2020  Safety Index  Cost of Living Index  \\\n",
       "0                75.79           23.32         76.68                 70.29   \n",
       "1                80.00           25.10         74.90                 83.00   \n",
       "2                72.44           21.60         78.40                122.40   \n",
       "3                65.92           23.36         76.64                100.48   \n",
       "4                74.36           35.43         64.57                101.43   \n",
       "..                 ...             ...           ...                   ...   \n",
       "107              45.84           46.92         53.08                 29.54   \n",
       "109              67.13           43.32         56.68                 24.58   \n",
       "111              54.29           58.95         41.05                 35.25   \n",
       "113              52.34           57.47         42.53                 55.30   \n",
       "114              45.28           76.23         23.77                 24.24   \n",
       "\n",
       "     Quality of Life Index  Pollution Index  crimeindex2021  \n",
       "0                   190.22            11.55           27.59  \n",
       "1                   192.67            21.33           26.22  \n",
       "2                   192.01            22.39           21.62  \n",
       "3                   181.75            16.21           23.75  \n",
       "4                   175.19            20.35           33.72  \n",
       "..                     ...              ...             ...  \n",
       "107                  86.54            85.65           46.83  \n",
       "109                 108.63            78.87           44.43  \n",
       "111                  96.45            80.78           56.00  \n",
       "113                  75.18            73.19           59.30  \n",
       "114                  76.48            70.97           76.31  \n",
       "\n",
       "[100 rows x 16 columns]"
      ]
     },
     "execution_count": 34,
     "metadata": {},
     "output_type": "execute_result"
    }
   ],
   "source": [
    "df = df.rename(columns={'Crime Index':'crimeindex2020', 'crimeIndex':'crimeindex2021'})\n",
    "df"
   ]
  },
  {
   "cell_type": "code",
   "execution_count": 35,
   "id": "e94d25ac",
   "metadata": {},
   "outputs": [
    {
     "data": {
      "text/plain": [
       "Ttest_indResult(statistic=-0.3990002470104738, pvalue=0.6903230166801531)"
      ]
     },
     "execution_count": 35,
     "metadata": {},
     "output_type": "execute_result"
    }
   ],
   "source": [
    "ttest_ind(df['crimeindex2020'], df['crimeindex2021'])"
   ]
  },
  {
   "cell_type": "markdown",
   "id": "4b42812c",
   "metadata": {},
   "source": [
    "Since the pvalue is greater than 0.05, we can accept the null hypothesis and we can conclude that is there is no concrete difference between those two columns."
   ]
  },
  {
   "cell_type": "markdown",
   "id": "c8d059f3",
   "metadata": {},
   "source": [
    "### What we learned:"
   ]
  },
  {
   "cell_type": "markdown",
   "id": "544496ca",
   "metadata": {},
   "source": [
    "- Through this project we learnt how to scan a dataset to understand the relevance of data in various columns. \n",
    "- We understood how we can correlate two different datasets based on common data fields and merge the dataset. We then worked on performing data cleaning and sanity checks. As most of our data is numerical, we had to perform various types of sanity checks. \n",
    "- We analyzed our data to find possible relations between different columns and performed visualizations to observe the relations and patterns. \n",
    "- From this project, we learnt that there are several assumptions about certain factors affecting the happiness of an overall country or region, but not all factors affect the happiness index or quality of life. We additionally learnt to perform a t-test."
   ]
  },
  {
   "cell_type": "markdown",
   "id": "b922f2be",
   "metadata": {},
   "source": [
    "### Summary:"
   ]
  },
  {
   "cell_type": "markdown",
   "id": "39e4aeb9",
   "metadata": {},
   "source": [
    "- Through this analysis, we could find the relation between various factors affecting the happiness index in different countries region wise. \n",
    "- We see that there is a clear indication that the regions having a higher GDP i.e countries having healthy economies have higher happiness index. We also observe that in regions where the health care index is high, the healthy life expectancy is high and the overall happiness index is high. \n",
    "- Although, no concrete evidence can be seen that factors like crime index, cost of living and pollution index affects the happiness index. Another major observation is that - happiness index is high in the regions where quality of life is high."
   ]
  },
  {
   "cell_type": "code",
   "execution_count": null,
   "id": "52c0a218",
   "metadata": {},
   "outputs": [],
   "source": []
  }
 ],
 "metadata": {
  "kernelspec": {
   "display_name": "Python 3 (ipykernel)",
   "language": "python",
   "name": "python3"
  },
  "language_info": {
   "codemirror_mode": {
    "name": "ipython",
    "version": 3
   },
   "file_extension": ".py",
   "mimetype": "text/x-python",
   "name": "python",
   "nbconvert_exporter": "python",
   "pygments_lexer": "ipython3",
   "version": "3.9.12"
  },
  "toc": {
   "base_numbering": 1,
   "nav_menu": {},
   "number_sections": true,
   "sideBar": true,
   "skip_h1_title": false,
   "title_cell": "Table of Contents",
   "title_sidebar": "Contents",
   "toc_cell": false,
   "toc_position": {},
   "toc_section_display": true,
   "toc_window_display": false
  }
 },
 "nbformat": 4,
 "nbformat_minor": 5
}
